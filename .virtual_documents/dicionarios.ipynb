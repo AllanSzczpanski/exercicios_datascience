 frutas_preco = {
    "Maçã": 1.00,
    "Banana": 0.50,
    "Laranja": 0.75,
    "Uva": 2.00, 
    "Pêra": 1.50
}

Print('O que você quer fazer?')
Print('[1]Ver catálogo')
Print('[2]Comprar produtos')
Print('[3]Adicionar Produtos(Só funcionários)')

resp1 = int(input("Número selecionado: "))

while True:
    if resp1 == 1:
        Print('Em breve')
    elif resp1 == 2:
        Print(compra)
        break
    elif resp1 == 3:
        Print(Add)
        break
    else:
        print('Opção inválida')

Add


compra = {
    vt = 0
    while True:
        print('----------------------------------------------------')
        print('Digite o Número correspondente para escolher a fruta')
        print('----------------------------------------------------')
        print('[1]Maçã')
        print('[2]Banana')
        print('[3]Laranja')
        print('[4]Uva')
        print('[5]Pêra')
        print('[6]Terminei minha compra')
    
        respF = int(input('Sua Opção '))
    
    
        if respF == 1:
            print("R$", frutas_preco['Maçã'])
            vt = vt + frutas_preco['Maçã']
        elif respF == 2:
            print("R$", frutas_preco['Banana'])
            vt = vt + frutas_preco['Banana']
        elif respF == 3:
            print("R$", frutas_preco['Laranja'])
            vt = vt + frutas_preco['Laranja']
        elif respF == 4:
            print("R$", frutas_preco['Uva'])
            vt = vt + frutas_preco['Uva']
        elif respF == 5:
            print("R$", frutas_preco['Pêra'])
            vt = vt + frutas_preco['Pêra']
        elif respF == 6:
            print('Seu valor total é R$', vt)
            break
        else:
            print('Opção Inválida')

}




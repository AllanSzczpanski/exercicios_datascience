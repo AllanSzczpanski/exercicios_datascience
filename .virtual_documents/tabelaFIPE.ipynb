import pandas as pd

# Carregar o dataset
dataset = pd.read_csv('fipe_cars.csv')

# Filtrar os carros do ano de 2023
carros_2023 = dataset[dataset['year_of_reference'] == 2023]

# Encontrar o preço mínimo e máximo dos carros de 2023
preco_minimo = carros_2023['avg_price_brl'].min()
preco_maximo = carros_2023['avg_price_brl'].max()

# Filtrar os carros com preços entre 5.000 e 7.000 reais
carros_faixa_preco = carros_2023[(carros_2023['avg_price_brl'] >= 5000) & (carros_2023['avg_price_brl'] <= 7000)]

# Selecionar colunas relevantes
colunas_relevantes = ['brand', 'model', 'gear', 'engine_size', 'year_model', 'avg_price_brl']
carros_faixa_preco_relevante = carros_faixa_preco[colunas_relevantes]

print(f"Preço mínimo de um carro em 2023: {preco_minimo}")
print(f"Preço máximo de um carro em 2023: {preco_maximo}")
print("Carros que podem ser comprados entre 5.000 e 7.000 reais:")
carros_faixa_preco_relevante.columns = ['MARCA', 'MODELO', 'CAMBIO', 'CILINDRADAS', 'ANO_DE_MODELO', 'PRECO_MEDIO']
carros_faixa_preco_relevante.to_csv('carros_faixa_preco_relevante.csv', index=False)

df = pd.read_csv('carros_faixa_preco_relevante.csv')

# Exibir o conteúdo do DataFrame
df




def valor_maca():
    print('Maçã - R$1.00')

def valor_banana():
    print('Banana - R$0.50')

def valor_laranja():
    print('Laranja - R$0.75')

def valor_uva():
    print('Uva - R$2.00')

def valor_pera():
    print('Pêra - R$1.50')

def main() :
    while True:
        print('Opções: ')
        print('[1]Maçã')
        print('[2]Banana')
        print('[3]Laranja')
        print('[4]Uva')
        print('[5]Pêra')
        print('[6]Encerrar Programa')

        resp = int(input('Sua Opção '))
        if resp == 1:
            valor_maca()
        elif resp == 2:
            valor_banana()
        elif resp == 3:
            valor_laranja()
        elif resp == 4:
            valor_uva()
        elif resp == 5:
            valor_pera()
        elif resp == 6:
            break
        else:
            print('Opção Inválida')
        main()

main()




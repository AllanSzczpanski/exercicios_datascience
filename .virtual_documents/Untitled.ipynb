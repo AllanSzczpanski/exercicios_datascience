frutas_preco = {
    "Maçã": 1.00,
    "Banana": 0.50,
    "Laranja": 0.75,
    "Uva": 2.00, 
    "Pêra": 1.50
}

for frutas in frutas_preco:
    precos = frutas_preco[frutas]
    print(frutas, ': R$', precos)




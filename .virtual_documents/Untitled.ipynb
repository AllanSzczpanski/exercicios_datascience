def trocos():
    while True:
        fpag = input("Qual a forma de pagamento? ")

        if fpag.lower() == "debito":
            print("Obrigado pela compra!!")
            break
        elif fpag.lower() == "crédito":
            print("Obrigado pela compra")
            break
        elif fpag.lower() == "pix":
            print("Obrigado pela compra")
            break
        elif fpag.lower() == "dinheiro":
            recebido = int(input("Troco pra quanto? "))
            troco = recebido - int(vt)
            print("Seu troco é de R$", troco)
            break
        else:
            print("Opção inválida")

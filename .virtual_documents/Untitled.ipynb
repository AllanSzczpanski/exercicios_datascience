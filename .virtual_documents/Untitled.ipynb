import pandas as pd

# Carregar o dataset
file_path = '/mnt/data/fipe_cars.csv'
dataset = pd.read_csv(file_path)

# Filtrar os carros do ano de 2023
carros_2023 = dataset[dataset['ano'] == 2023]

# Encontrar o preço mínimo e máximo dos carros de 2023
preco_minimo = carros_2023['preco'].min()
preco_maximo = carros_2023['preco'].max()

# Filtrar os carros com preços entre 5.000 e 7.000 reais
carros_faixa_preco = carros_2023[(carros_2023['preco'] >= 5000) & (carros_2023['preco'] <= 7000)]

print(f"Preço mínimo de um carro em 2023: {preco_minimo}")
print(f"Preço máximo de um carro em 2023: {preco_maximo}")
print("Carros que podem ser comprados entre 5.000 e 7.000 reais:")
print(carros_faixa_preco)



# Filtrar os carros do ano de 2023
carros_2023 = dataset[dataset['year_reference'] == 2023]

# Encontrar o preço mínimo e máximo .dos carros de 2023
preco_minimo = carros_2023['avg_price_brl'].min()
preco_maximo = carros_2023['avg_price_brl'].max()

# Filtrar os carros com preços entre 5.000 e 7.000 reais
carros_faixa_preco = carros_2023[(carros_2023['avg_price_brl'] >= 5000) & (carros_2023['avg_price_brl'] <= 7000)]

(preco_minimo, preco_maximo, carros_faixa_preco)




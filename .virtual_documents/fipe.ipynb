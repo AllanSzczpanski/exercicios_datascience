import pandas as pd

# Carregar o dataset
df = pd.read_csv('fipe_cars.csv')

# Filtrar as entradas com o ano de referência igual a 2023
entradas_2023 = df[df['year_of_reference'] == 2023]

# Contar o número de entradas
num_entradas_2023 = len(entradas_2023)

print(f'Número de entradas com o ano de referência igual a 2023: {num_entradas_2023}')





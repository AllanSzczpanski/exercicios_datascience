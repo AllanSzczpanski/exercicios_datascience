frutas_preco = {
    "maçã": 1.00,
    "banana": 0.50,
    "laranja": 0.75,
    "uva": 2.00, 
    "pêra": 1.50
}
def exibir():
    print('----------------')
    print("Nossos produtos:")
    print('----------------')
    for frutas in frutas_preco:
        precos = frutas_preco[frutas]
        print(frutas, ': R$', precos)
        print('----------------------')
    
def compra():
    vt = 0
    while True:
        print('----------------------------------------------------')
        print('Para finalizar digite: pagar')
        resp = input('Digite o nome da fruta(com acentos): ')
        print('----------------------------------------------------')

        if resp.lower() in frutas_preco:
            print(f"R$ {frutas_preco[resp.lower()]}")
            vt += frutas_preco[resp.lower()]
        elif resp == 'pagar':
            print('Seu valor total é R$', vt)
            trocados(vt)
            break
        else:
            print('Opção Inválida')

            
def trocados(vt):
    money = float(input("Troco pra quanto? "))
    troco = money - vt
    if vt > money:
        print("Você está devendo ", troco*-1)
    elif vt <= money:
        print("Seu troco é de R$", troco)
        print("Volte sempre!!")
    else:
        print("Nem sei o que tu fez")
        print('---------------------------')

   

def add_frutas():
    chave = input('Fruta: ')
    valor = float(input('Valor: '))   
    frutas_preco[chave.lower()] = valor
    print('Produto adicionado com suceso!!')
    print('-------------------------------')

def remove():
    apagada = input('Retire uma fruta: ')
    frutas_preco.pop(apagada) 
    print('Produto removido com sucesso!!')
    print('------------------------------') 

def adm():
    print('[1]Adicionar produto')
    print('[2]Remover produto')
    print('[3]Terminei/Sair')
    resp_adm = int(input('Selecione o número correspondente: '))

    while True:
        if resp_adm == 1:
            add_frutas()
            break
        elif resp_adm == 2:
            remove()
            break
        elif resp_adm == 3:
            print('Bom trabalho!!')
            print('--------------')
            break
        else:
            print('Opção Inválida')
    


print('-----------------')
print('Fruteira São João')
print('-----------------')

while True:
    print('O que você deseja fazer?')
    print('[1]Ver catálogo')
    print('[2]Comprar')
    print('[3]Adicionar produtos')
    print('[4]Finalizar')

    resp1 = int(input('Selecione o número correspondente: '))
    
    if resp1 == 1:
        exibir()
    elif resp1 == 2: 
        compra()
    elif resp1 == 3:
        adm()
    elif resp1 == 4:
        print('-----------------------------')
        print('Obrigado por comprar conosco')
        break
    else:
        print('Opção inválida')




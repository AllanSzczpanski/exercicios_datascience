import pandas as pd

df = pd.read_csv('carros_faixa_preco_relevante.csv')

preco_minimo = df['PRECO_MEDIO'].min()
preco_maximo = df['PRECO_MEDIO'].max()

print(f"Preço mínimo de um carro em 2023: {preco_minimo}")
print(f"Preço máximo de um carro em 2023: {preco_maximo}")
print("Carros que podem ser comprados entre 5.000 e 7.000 reais:")

df




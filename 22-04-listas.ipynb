{
 "cells": [
  {
   "cell_type": "markdown",
   "id": "ad16cb10-5aa8-4946-ac9c-9f82c2328f26",
   "metadata": {},
   "source": [
    "Exercício 1: Listas"
   ]
  },
  {
   "cell_type": "code",
   "execution_count": 1,
   "id": "b29f615c-ee6a-4b22-a9aa-b424b31ba903",
   "metadata": {},
   "outputs": [
    {
     "data": {
      "text/plain": [
       "[15, 14, 13, 12, 11, 10, 9, 8, 7, 6, 5, 4, 3, 2, 1, 0]"
      ]
     },
     "execution_count": 1,
     "metadata": {},
     "output_type": "execute_result"
    }
   ],
   "source": [
    "lista = [0,1,2,3,4,5,6,7,8,9,10,11,12,13,14,15]\n",
    "\n",
    "lista[::-1]"
   ]
  },
  {
   "cell_type": "code",
   "execution_count": 2,
   "id": "bf19cf34-a218-4788-bac0-3c37fe27f481",
   "metadata": {},
   "outputs": [
    {
     "data": {
      "text/plain": [
       "[1, 2, 3, 4, 5, 6, 7, 8, 9]"
      ]
     },
     "execution_count": 2,
     "metadata": {},
     "output_type": "execute_result"
    }
   ],
   "source": [
    "lista[1:10]"
   ]
  },
  {
   "cell_type": "code",
   "execution_count": 3,
   "id": "3586374f-38ed-4d22-a5b7-d4627ab11529",
   "metadata": {},
   "outputs": [
    {
     "data": {
      "text/plain": [
       "[1, 3, 5, 7, 9, 11, 13, 15]"
      ]
     },
     "execution_count": 3,
     "metadata": {},
     "output_type": "execute_result"
    }
   ],
   "source": [
    "lista[1::2]"
   ]
  },
  {
   "cell_type": "code",
   "execution_count": null,
   "id": "e456bdd4-6325-415b-a15a-f3a624b0ac75",
   "metadata": {},
   "outputs": [],
   "source": []
  }
 ],
 "metadata": {
  "kernelspec": {
   "display_name": "Python 3 (ipykernel)",
   "language": "python",
   "name": "python3"
  },
  "language_info": {
   "codemirror_mode": {
    "name": "ipython",
    "version": 3
   },
   "file_extension": ".py",
   "mimetype": "text/x-python",
   "name": "python",
   "nbconvert_exporter": "python",
   "pygments_lexer": "ipython3",
   "version": "3.11.2"
  }
 },
 "nbformat": 4,
 "nbformat_minor": 5
}

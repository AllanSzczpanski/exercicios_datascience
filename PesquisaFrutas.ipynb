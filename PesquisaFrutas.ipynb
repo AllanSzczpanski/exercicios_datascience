{
 "cells": [
  {
   "cell_type": "code",
   "execution_count": 3,
   "id": "61ce808c-1d9c-4d7d-9a73-9cb95b83f5af",
   "metadata": {},
   "outputs": [],
   "source": [
    "frutas_preco = {\n",
    "    \"maçã\": 1.00,\n",
    "    \"banana\": 0.50,\n",
    "    \"laranja\": 0.75,\n",
    "    \"uva\": 2.00, \n",
    "    \"pêra\": 1.50\n",
    "}\n",
    "def exibir():\n",
    "    print('----------------')\n",
    "    print(\"Nossos produtos:\")\n",
    "    print('----------------')\n",
    "    for frutas in frutas_preco:\n",
    "        precos = frutas_preco[frutas]\n",
    "        print(frutas, ': R$', precos)\n",
    "        print('----------------------')\n",
    "    \n",
    "def compra():\n",
    "    vt = 0\n",
    "    while True:\n",
    "        print('----------------------------------------------------')\n",
    "        print('Para finalizar digite: pagar')\n",
    "        resp = input('Digite o nome da fruta(com acentos): ')\n",
    "        print('----------------------------------------------------')\n",
    "\n",
    "        if resp.lower() in frutas_preco:\n",
    "            print(f\"R$ {frutas_preco[resp.lower()]}\")\n",
    "            vt += frutas_preco[resp.lower()]\n",
    "        elif resp == 'pagar':\n",
    "            print('Seu valor total é R$', vt)\n",
    "            trocados(vt)\n",
    "            break\n",
    "        else:\n",
    "            print('Opção Inválida')\n",
    "\n",
    "            \n",
    "def trocados(vt):\n",
    "    money = float(input(\"Troco pra quanto? \"))\n",
    "    troco = money - vt\n",
    "    if vt > money:\n",
    "        print(\"Você está devendo \", troco*-1)\n",
    "    elif vt <= money:\n",
    "        print(\"Seu troco é de R$\", troco)\n",
    "        print(\"Volte sempre!!\")\n",
    "    else:\n",
    "        print(\"Nem sei o que tu fez\")\n",
    "        print('---------------------------')\n",
    "\n",
    "   \n",
    "\n",
    "def add_frutas():\n",
    "    chave = input('Fruta: ')\n",
    "    valor = float(input('Valor: '))   \n",
    "    frutas_preco[chave.lower()] = valor\n",
    "    print('Produto adicionado com suceso!!')\n",
    "    print('-------------------------------')\n",
    "\n",
    "def remove():\n",
    "    apagada = input('Retire uma fruta: ')\n",
    "    frutas_preco.pop(apagada) \n",
    "    print('Produto removido com sucesso!!')\n",
    "    print('------------------------------') \n",
    "\n",
    "def adm():\n",
    "    print('[1]Adicionar produto')\n",
    "    print('[2]Remover produto')\n",
    "    print('[3]Terminei/Sair')\n",
    "    resp_adm = int(input('Selecione o número correspondente: '))\n",
    "\n",
    "    while True:\n",
    "        if resp_adm == 1:\n",
    "            add_frutas()\n",
    "            break\n",
    "        elif resp_adm == 2:\n",
    "            remove()\n",
    "            break\n",
    "        elif resp_adm == 3:\n",
    "            print('Bom trabalho!!')\n",
    "            print('--------------')\n",
    "            break\n",
    "        else:\n",
    "            print('Opção Inválida')\n",
    "    "
   ]
  },
  {
   "cell_type": "code",
   "execution_count": null,
   "id": "30b6bf76-2292-4823-9e8e-b71c23a192c7",
   "metadata": {},
   "outputs": [
    {
     "name": "stdout",
     "output_type": "stream",
     "text": [
      "-----------------\n",
      "Fruteira São João\n",
      "-----------------\n",
      "O que você deseja fazer?\n",
      "[1]Ver catálogo\n",
      "[2]Comprar\n",
      "[3]Adicionar produtos\n",
      "[4]Finalizar\n"
     ]
    },
    {
     "name": "stdin",
     "output_type": "stream",
     "text": [
      "Selecione o número correspondente:  1\n"
     ]
    },
    {
     "name": "stdout",
     "output_type": "stream",
     "text": [
      "----------------\n",
      "Nossos produtos:\n",
      "----------------\n",
      "maçã : R$ 1.0\n",
      "----------------------\n",
      "banana : R$ 0.5\n",
      "----------------------\n",
      "laranja : R$ 0.75\n",
      "----------------------\n",
      "uva : R$ 2.0\n",
      "----------------------\n",
      "pêra : R$ 1.5\n",
      "----------------------\n",
      "O que você deseja fazer?\n",
      "[1]Ver catálogo\n",
      "[2]Comprar\n",
      "[3]Adicionar produtos\n",
      "[4]Finalizar\n"
     ]
    },
    {
     "name": "stdin",
     "output_type": "stream",
     "text": [
      "Selecione o número correspondente:  3\n"
     ]
    },
    {
     "name": "stdout",
     "output_type": "stream",
     "text": [
      "[1]Adicionar produto\n",
      "[2]Remover produto\n",
      "[3]Terminei/Sair\n"
     ]
    },
    {
     "name": "stdin",
     "output_type": "stream",
     "text": [
      "Selecione o número correspondente:  1\n",
      "Fruta:  Mamão\n",
      "Valor:  3.50\n"
     ]
    },
    {
     "name": "stdout",
     "output_type": "stream",
     "text": [
      "Produto adicionado com suceso!!\n",
      "-------------------------------\n",
      "O que você deseja fazer?\n",
      "[1]Ver catálogo\n",
      "[2]Comprar\n",
      "[3]Adicionar produtos\n",
      "[4]Finalizar\n"
     ]
    },
    {
     "name": "stdin",
     "output_type": "stream",
     "text": [
      "Selecione o número correspondente:  1\n"
     ]
    },
    {
     "name": "stdout",
     "output_type": "stream",
     "text": [
      "----------------\n",
      "Nossos produtos:\n",
      "----------------\n",
      "maçã : R$ 1.0\n",
      "----------------------\n",
      "banana : R$ 0.5\n",
      "----------------------\n",
      "laranja : R$ 0.75\n",
      "----------------------\n",
      "uva : R$ 2.0\n",
      "----------------------\n",
      "pêra : R$ 1.5\n",
      "----------------------\n",
      "mamão : R$ 3.5\n",
      "----------------------\n",
      "O que você deseja fazer?\n",
      "[1]Ver catálogo\n",
      "[2]Comprar\n",
      "[3]Adicionar produtos\n",
      "[4]Finalizar\n"
     ]
    },
    {
     "name": "stdin",
     "output_type": "stream",
     "text": [
      "Selecione o número correspondente:  2\n"
     ]
    },
    {
     "name": "stdout",
     "output_type": "stream",
     "text": [
      "----------------------------------------------------\n",
      "Para finalizar digite: pagar\n"
     ]
    },
    {
     "name": "stdin",
     "output_type": "stream",
     "text": [
      "Digite o nome da fruta(com acentos):  Mamão\n"
     ]
    },
    {
     "name": "stdout",
     "output_type": "stream",
     "text": [
      "----------------------------------------------------\n",
      "R$ 3.5\n",
      "----------------------------------------------------\n",
      "Para finalizar digite: pagar\n"
     ]
    },
    {
     "name": "stdin",
     "output_type": "stream",
     "text": [
      "Digite o nome da fruta(com acentos):  Maçã\n"
     ]
    },
    {
     "name": "stdout",
     "output_type": "stream",
     "text": [
      "----------------------------------------------------\n",
      "R$ 1.0\n",
      "----------------------------------------------------\n",
      "Para finalizar digite: pagar\n"
     ]
    },
    {
     "name": "stdin",
     "output_type": "stream",
     "text": [
      "Digite o nome da fruta(com acentos):  sair\n"
     ]
    },
    {
     "name": "stdout",
     "output_type": "stream",
     "text": [
      "----------------------------------------------------\n",
      "Opção Inválida\n",
      "----------------------------------------------------\n",
      "Para finalizar digite: pagar\n"
     ]
    },
    {
     "name": "stdin",
     "output_type": "stream",
     "text": [
      "Digite o nome da fruta(com acentos):  pagar\n"
     ]
    },
    {
     "name": "stdout",
     "output_type": "stream",
     "text": [
      "----------------------------------------------------\n",
      "Seu valor total é R$ 4.5\n"
     ]
    }
   ],
   "source": [
    "print('-----------------')\n",
    "print('Fruteira São João')\n",
    "print('-----------------')\n",
    "\n",
    "while True:\n",
    "    print('O que você deseja fazer?')\n",
    "    print('[1]Ver catálogo')\n",
    "    print('[2]Comprar')\n",
    "    print('[3]Adicionar produtos')\n",
    "    print('[4]Finalizar')\n",
    "\n",
    "    resp1 = int(input('Selecione o número correspondente: '))\n",
    "    \n",
    "    if resp1 == 1:\n",
    "        exibir()\n",
    "    elif resp1 == 2: \n",
    "        compra()\n",
    "    elif resp1 == 3:\n",
    "        adm()\n",
    "    elif resp1 == 4:\n",
    "        print('-----------------------------')\n",
    "        print('Obrigado por comprar conosco')\n",
    "        break\n",
    "    else:\n",
    "        print('Opção inválida')"
   ]
  },
  {
   "cell_type": "code",
   "execution_count": null,
   "id": "a72969ef-27c2-41cd-a6bf-f4d26c02d0f6",
   "metadata": {},
   "outputs": [],
   "source": []
  }
 ],
 "metadata": {
  "kernelspec": {
   "display_name": "Python 3 (ipykernel)",
   "language": "python",
   "name": "python3"
  },
  "language_info": {
   "codemirror_mode": {
    "name": "ipython",
    "version": 3
   },
   "file_extension": ".py",
   "mimetype": "text/x-python",
   "name": "python",
   "nbconvert_exporter": "python",
   "pygments_lexer": "ipython3",
   "version": "3.11.2"
  }
 },
 "nbformat": 4,
 "nbformat_minor": 5
}

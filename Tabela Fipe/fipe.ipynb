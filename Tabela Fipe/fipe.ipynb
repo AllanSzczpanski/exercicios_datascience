{
 "cells": [
  {
   "cell_type": "code",
   "execution_count": 1,
   "id": "7aa05c7b-e1d6-4559-9935-45597f6102ca",
   "metadata": {},
   "outputs": [
    {
     "name": "stdout",
     "output_type": "stream",
     "text": [
      "Número de entradas com o ano de referência igual a 2023: 24503\n"
     ]
    }
   ],
   "source": [
    "import pandas as pd\n",
    "\n",
    "# Carregar o dataset\n",
    "df = pd.read_csv('fipe_cars.csv')\n",
    "\n",
    "# Filtrar as entradas com o ano de referência igual a 2023\n",
    "entradas_2023 = df[df['year_of_reference'] == 2023]\n",
    "\n",
    "# Contar o número de entradas\n",
    "num_entradas_2023 = len(entradas_2023)\n",
    "\n",
    "print(f'Número de entradas com o ano de referência igual a 2023: {num_entradas_2023}')\n"
   ]
  },
  {
   "cell_type": "code",
   "execution_count": null,
   "id": "3dc54260-f9c2-4da4-bfa8-7895e7826511",
   "metadata": {},
   "outputs": [],
   "source": []
  }
 ],
 "metadata": {
  "kernelspec": {
   "display_name": "Python 3 (ipykernel)",
   "language": "python",
   "name": "python3"
  },
  "language_info": {
   "codemirror_mode": {
    "name": "ipython",
    "version": 3
   },
   "file_extension": ".py",
   "mimetype": "text/x-python",
   "name": "python",
   "nbconvert_exporter": "python",
   "pygments_lexer": "ipython3",
   "version": "3.11.2"
  }
 },
 "nbformat": 4,
 "nbformat_minor": 5
}

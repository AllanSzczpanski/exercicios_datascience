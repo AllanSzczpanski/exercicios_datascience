{
 "cells": [
  {
   "cell_type": "code",
   "execution_count": 2,
   "id": "eac99b67-3dfb-4811-9574-89120ea94be5",
   "metadata": {},
   "outputs": [
    {
     "name": "stdout",
     "output_type": "stream",
     "text": [
      "Alunos mais VELHOS tem melhor nota\n"
     ]
    }
   ],
   "source": [
    "import pandas as pd\n",
    "import numpy as np\n",
    "\n",
    "dados = {\n",
    "    'NOME':['Pedro','Maria','Janaina','Wong','Roberto','Marco', 'Paula'],\n",
    "    'CIDADE':['Porto Alegre','São Paulo','Rio de Janeiro','Brasília','Salvador','Curitiba','Belo Horizonte'],\n",
    "    'IDADE':[14,13,15,16,18,13,14],\n",
    "    'NOTA':[83.0,59.0,86.0,89.0,98.0,61.0,44.0],\n",
    "    }\n",
    "dfAlunos = pd.DataFrame(data=dados)\n",
    "\n",
    "dfAlunos.to_csv(\"alunos.csv\",index=False)\n",
    "\n",
    "df = pd.read_csv(\"alunos.csv\")\n",
    "print (df)\n",
    "\n"
   ]
  },
  {
   "cell_type": "code",
   "execution_count": null,
   "id": "4721ba76-d120-4934-8fbe-71f45f95d9ea",
   "metadata": {},
   "outputs": [],
   "source": []
  }
 ],
 "metadata": {
  "kernelspec": {
   "display_name": "Python 3 (ipykernel)",
   "language": "python",
   "name": "python3"
  },
  "language_info": {
   "codemirror_mode": {
    "name": "ipython",
    "version": 3
   },
   "file_extension": ".py",
   "mimetype": "text/x-python",
   "name": "python",
   "nbconvert_exporter": "python",
   "pygments_lexer": "ipython3",
   "version": "3.11.2"
  }
 },
 "nbformat": 4,
 "nbformat_minor": 5
}

{
 "cells": [
  {
   "cell_type": "code",
   "execution_count": 3,
   "id": "7003510e-7de9-4b1b-ad07-95804f6611db",
   "metadata": {},
   "outputs": [
    {
     "ename": "NameError",
     "evalue": "name 'pandas' is not defined",
     "output_type": "error",
     "traceback": [
      "\u001b[0;31m---------------------------------------------------------------------------\u001b[0m",
      "\u001b[0;31mNameError\u001b[0m                                 Traceback (most recent call last)",
      "Cell \u001b[0;32mIn[3], line 3\u001b[0m\n\u001b[1;32m      1\u001b[0m \u001b[38;5;66;03m# Carregar o dataset\u001b[39;00m\n\u001b[1;32m      2\u001b[0m file_path \u001b[38;5;241m=\u001b[39m \u001b[38;5;124m'\u001b[39m\u001b[38;5;124m/mnt/data/fipe_cars.csv\u001b[39m\u001b[38;5;124m'\u001b[39m\n\u001b[0;32m----> 3\u001b[0m dataset \u001b[38;5;241m=\u001b[39m \u001b[43mpandas\u001b[49m\u001b[38;5;241m.\u001b[39mread_csv(file_path)\n\u001b[1;32m      5\u001b[0m \u001b[38;5;66;03m# Filtrar os carros do ano de 2023\u001b[39;00m\n\u001b[1;32m      6\u001b[0m carros_2023 \u001b[38;5;241m=\u001b[39m dataset[dataset[\u001b[38;5;124m'\u001b[39m\u001b[38;5;124mano\u001b[39m\u001b[38;5;124m'\u001b[39m] \u001b[38;5;241m==\u001b[39m \u001b[38;5;241m2023\u001b[39m]\n",
      "\u001b[0;31mNameError\u001b[0m: name 'pandas' is not defined"
     ]
    }
   ],
   "source": [
    "import pandas as pd\n",
    "\n",
    "# Carregar o dataset\n",
    "file_path = '/mnt/data/fipe_cars.csv'\n",
    "dataset = pd.read_csv(file_path)\n",
    "\n",
    "# Filtrar os carros do ano de 2023\n",
    "carros_2023 = dataset[dataset['ano'] == 2023]\n",
    "\n",
    "# Encontrar o preço mínimo e máximo dos carros de 2023\n",
    "preco_minimo = carros_2023['preco'].min()\n",
    "preco_maximo = carros_2023['preco'].max()\n",
    "\n",
    "# Filtrar os carros com preços entre 5.000 e 7.000 reais\n",
    "carros_faixa_preco = carros_2023[(carros_2023['preco'] >= 5000) & (carros_2023['preco'] <= 7000)]\n",
    "\n",
    "print(f\"Preço mínimo de um carro em 2023: {preco_minimo}\")\n",
    "print(f\"Preço máximo de um carro em 2023: {preco_maximo}\")\n",
    "print(\"Carros que podem ser comprados entre 5.000 e 7.000 reais:\")\n",
    "print(carros_faixa_preco)\n"
   ]
  },
  {
   "cell_type": "code",
   "execution_count": 1,
   "id": "f0e619f9-90f5-485b-8447-03ac41a22741",
   "metadata": {},
   "outputs": [
    {
     "ename": "NameError",
     "evalue": "name 'dataset' is not defined",
     "output_type": "error",
     "traceback": [
      "\u001b[0;31m---------------------------------------------------------------------------\u001b[0m",
      "\u001b[0;31mNameError\u001b[0m                                 Traceback (most recent call last)",
      "Cell \u001b[0;32mIn[1], line 2\u001b[0m\n\u001b[1;32m      1\u001b[0m \u001b[38;5;66;03m# Filtrar os carros do ano de 2023\u001b[39;00m\n\u001b[0;32m----> 2\u001b[0m carros_2023 \u001b[38;5;241m=\u001b[39m \u001b[43mdataset\u001b[49m[dataset[\u001b[38;5;124m'\u001b[39m\u001b[38;5;124myear_model\u001b[39m\u001b[38;5;124m'\u001b[39m] \u001b[38;5;241m==\u001b[39m \u001b[38;5;241m2023\u001b[39m]\n\u001b[1;32m      4\u001b[0m \u001b[38;5;66;03m# Encontrar o preço mínimo e máximo dos carros de 2023\u001b[39;00m\n\u001b[1;32m      5\u001b[0m preco_minimo \u001b[38;5;241m=\u001b[39m carros_2023[\u001b[38;5;124m'\u001b[39m\u001b[38;5;124mavg_price_brl\u001b[39m\u001b[38;5;124m'\u001b[39m]\u001b[38;5;241m.\u001b[39mmin()\n",
      "\u001b[0;31mNameError\u001b[0m: name 'dataset' is not defined"
     ]
    }
   ],
   "source": [
    "# Filtrar os carros do ano de 2023\n",
    "carros_2023 = dataset[dataset['year_reference'] == 2023]\n",
    "\n",
    "# Encontrar o preço mínimo e máximo .dos carros de 2023\n",
    "preco_minimo = carros_2023['avg_price_brl'].min()\n",
    "preco_maximo = carros_2023['avg_price_brl'].max()\n",
    "\n",
    "# Filtrar os carros com preços entre 5.000 e 7.000 reais\n",
    "carros_faixa_preco = carros_2023[(carros_2023['avg_price_brl'] >= 5000) & (carros_2023['avg_price_brl'] <= 7000)]\n",
    "\n",
    "(preco_minimo, preco_maximo, carros_faixa_preco)"
   ]
  }
 ],
 "metadata": {
  "kernelspec": {
   "display_name": "Python 3 (ipykernel)",
   "language": "python",
   "name": "python3"
  },
  "language_info": {
   "codemirror_mode": {
    "name": "ipython",
    "version": 3
   },
   "file_extension": ".py",
   "mimetype": "text/x-python",
   "name": "python",
   "nbconvert_exporter": "python",
   "pygments_lexer": "ipython3",
   "version": "3.11.2"
  }
 },
 "nbformat": 4,
 "nbformat_minor": 5
}

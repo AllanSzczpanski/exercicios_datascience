{
 "cells": [
  {
   "cell_type": "code",
   "execution_count": 4,
   "id": "83b448de-cfbc-43e8-832c-172712da754e",
   "metadata": {},
   "outputs": [
    {
     "name": "stdin",
     "output_type": "stream",
     "text": [
      "Qual seu nome?  Allan\n",
      "Qual sua idade?  15\n",
      "Qual seu peso?  52.5\n"
     ]
    },
    {
     "name": "stdout",
     "output_type": "stream",
     "text": [
      "Nome: Allan\n",
      "Idade: 15\n",
      "Peso: 52.5\n"
     ]
    }
   ],
   "source": [
    "nome = input(\"Qual seu nome? \")\n",
    "idade = input(\"Qual sua idade? \")\n",
    "peso = input(\"Qual seu peso? \")\n",
    "\n",
    "print(\"Nome:\", nome)\n",
    "print(\"Idade:\", idade)\n",
    "print(\"Peso:\", peso) "
   ]
  },
  {
   "cell_type": "code",
   "execution_count": null,
   "id": "d4a7fee5-d6b0-47c2-92e4-e83b7f243141",
   "metadata": {},
   "outputs": [],
   "source": []
  }
 ],
 "metadata": {
  "kernelspec": {
   "display_name": "Python 3 (ipykernel)",
   "language": "python",
   "name": "python3"
  },
  "language_info": {
   "codemirror_mode": {
    "name": "ipython",
    "version": 3
   },
   "file_extension": ".py",
   "mimetype": "text/x-python",
   "name": "python",
   "nbconvert_exporter": "python",
   "pygments_lexer": "ipython3",
   "version": "3.11.7"
  }
 },
 "nbformat": 4,
 "nbformat_minor": 5
}

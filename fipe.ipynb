{
 "cells": [
  {
   "cell_type": "code",
   "execution_count": 1,
   "id": "7aa05c7b-e1d6-4559-9935-45597f6102ca",
   "metadata": {},
   "outputs": [
    {
     "name": "stdout",
     "output_type": "stream",
     "text": [
      "Número de entradas com o ano de referência igual a 2023: 24503\n"
     ]
    }
   ],
   "source": [
    "import pandas as pd\n",
    "\n",
    "# Carregar o dataset\n",
    "df = pd.read_csv('fipe_cars.csv')\n",
    "\n",
    "# Filtrar as entradas com o ano de referência igual a 2023\n",
    "entradas_2023 = df[df['year_of_reference'] == 2023]\n",
    "\n",
    "# Contar o número de entradas\n",
    "num_entradas_2023 = len(entradas_2023)\n",
    "\n",
    "print(f'Número de entradas com o ano de referência igual a 2023: {num_entradas_2023}')\n"
   ]
  },
  {
   "cell_type": "code",
   "execution_count": 4,
   "id": "d50dac11-dfde-4e5c-ac02-a8e2863157c5",
   "metadata": {},
   "outputs": [
    {
     "ename": "TypeError",
     "evalue": "'int' object is not subscriptable",
     "output_type": "error",
     "traceback": [
      "\u001b[0;31m---------------------------------------------------------------------------\u001b[0m",
      "\u001b[0;31mTypeError\u001b[0m                                 Traceback (most recent call last)",
      "Cell \u001b[0;32mIn[4], line 4\u001b[0m\n\u001b[1;32m      1\u001b[0m \u001b[38;5;66;03m#Qual o preço mínimo de um carro em 2023?\u001b[39;00m\n\u001b[1;32m      3\u001b[0m df \u001b[38;5;241m=\u001b[39m \u001b[38;5;241m1\u001b[39m\n\u001b[0;32m----> 4\u001b[0m entradas_2023 \u001b[38;5;241m=\u001b[39m df[\u001b[43mdf\u001b[49m\u001b[43m[\u001b[49m\u001b[38;5;124;43m'\u001b[39;49m\u001b[38;5;124;43myear_of_reference\u001b[39;49m\u001b[38;5;124;43m'\u001b[39;49m\u001b[43m]\u001b[49m \u001b[38;5;241m==\u001b[39m \u001b[38;5;241m2023\u001b[39m]\n\u001b[1;32m      6\u001b[0m \u001b[38;5;66;03m# Contar o número de entradas\u001b[39;00m\n\u001b[1;32m      7\u001b[0m num_entradas_2023 \u001b[38;5;241m=\u001b[39m \u001b[38;5;28mlen\u001b[39m(entradas_2023)\n",
      "\u001b[0;31mTypeError\u001b[0m: 'int' object is not subscriptable"
     ]
    }
   ],
   "source": [
    "#Qual o preço mínimo de um carro em 2023?\n",
    "df"
   ]
  },
  {
   "cell_type": "code",
   "execution_count": null,
   "id": "3dc54260-f9c2-4da4-bfa8-7895e7826511",
   "metadata": {},
   "outputs": [],
   "source": []
  }
 ],
 "metadata": {
  "kernelspec": {
   "display_name": "Python 3 (ipykernel)",
   "language": "python",
   "name": "python3"
  },
  "language_info": {
   "codemirror_mode": {
    "name": "ipython",
    "version": 3
   },
   "file_extension": ".py",
   "mimetype": "text/x-python",
   "name": "python",
   "nbconvert_exporter": "python",
   "pygments_lexer": "ipython3",
   "version": "3.11.2"
  }
 },
 "nbformat": 4,
 "nbformat_minor": 5
}

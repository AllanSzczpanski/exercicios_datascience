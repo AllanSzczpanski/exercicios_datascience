{
 "cells": [
  {
   "cell_type": "code",
   "execution_count": null,
   "id": "77e3558f-c85e-4cb1-a452-38ac1d7ca76d",
   "metadata": {},
   "outputs": [],
   "source": [
    "lista = ['Maçã', 'Banana', 'Laranja', 'Uva', 'Pêra']\n",
    "lista_precos = [1.00, 0.50, 0.75, 2.00, 1.50]\n",
    "\n",
    "lista[0] = lista[0] + ' - R$' + str(lista_precos[0])\n",
    "lista[1] = lista[1] + ' - R$' + str(lista_precos[1])\n",
    "lista[2] = lista[2] + ' - R$' + str(lista_precos[2])\n",
    "lista[3] = lista[3] + ' - R$' + str(lista_precos[3])\n",
    "lista[4] = lista[4] + ' - R$' + str(lista_precos[4])\n",
    "\n",
    "vt = 0\n",
    "\n",
    "while True:\n",
    "    print('------------------------------------')\n",
    "    print('Escolha uma fruta para saber o valor')\n",
    "    print('------------------------------------')\n",
    "    print('[1]Maçã')\n",
    "    print('[2]Banana')\n",
    "    print('[3]Laranja')\n",
    "    print('[4]Uva')\n",
    "    print('[5]Pêra')\n",
    "    print('[6]Terminei minha compra')\n",
    "\n",
    "    resp = int(input('Sua Opção '))\n",
    "\n",
    "\n",
    "    if resp == 1:\n",
    "        print(lista[0])\n",
    "        vt = vt + 1.00\n",
    "    elif resp == 2:\n",
    "        print(lista[1])\n",
    "        vt = vt + 0.50\n",
    "    elif resp == 3:\n",
    "        print(lista[2])\n",
    "        vt = vt + 0.75\n",
    "    elif resp == 4:\n",
    "        print(lista[3])\n",
    "        vt = vt + 2.00\n",
    "    elif resp == 5:\n",
    "        print(lista[4])\n",
    "        vt = vt + 1.50\n",
    "    elif resp == 6:\n",
    "        print('Seu valor total é R$', vt)\n",
    "        break\n",
    "    else:\n",
    "        print('Opção Inválida')"
   ]
  }
 ],
 "metadata": {
  "kernelspec": {
   "display_name": "Python 3 (ipykernel)",
   "language": "python",
   "name": "python3"
  },
  "language_info": {
   "codemirror_mode": {
    "name": "ipython",
    "version": 3
   },
   "file_extension": ".py",
   "mimetype": "text/x-python",
   "name": "python",
   "nbconvert_exporter": "python",
   "pygments_lexer": "ipython3",
   "version": "3.11.2"
  }
 },
 "nbformat": 4,
 "nbformat_minor": 5
}

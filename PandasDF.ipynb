{
 "cells": [
  {
   "cell_type": "code",
   "execution_count": 4,
   "id": "546c78f5-8436-43cb-babd-a59f78c58015",
   "metadata": {},
   "outputs": [
    {
     "name": "stdout",
     "output_type": "stream",
     "text": [
      "Alunos mais VELHOS tem melhor nota\n"
     ]
    }
   ],
   "source": [
    "import pandas as pd\n",
    "import numpy as np\n",
    "\n",
    "dados = {\n",
    "    'NOME':['Pedro','Maria','Janaina','Wong','Roberto','Marco', 'Paula'],\n",
    "    'CIDADE':['Porto Alegre','São Paulo','Rio de Janeiro','Brasília','Salvador','Curitiba','Belo Horizonte'],\n",
    "    'IDADE':[14,13,15,16,18,13,14],\n",
    "    'NOTA':[83.0,59.0,86.0,89.0,98.0,61.0,44.0],\n",
    "    }\n",
    "dfAlunos = pd.DataFrame(data=dados)\n",
    "\n",
    "pearson = dfAlunos['IDADE'].corr(dfAlunos['NOTA'])\n",
    "\n",
    "if(pearson > 0.5):\n",
    "    print('Alunos mais VELHOS tem melhor nota')\n",
    "elif(pearson < 0.5):\n",
    "    print('Alunos mais NOVOS tem melhor nota')\n",
    "else:\n",
    "    print('Não há relação entre idade e nota')"
   ]
  },
  {
   "cell_type": "code",
   "execution_count": 5,
   "id": "69d27e8a-06fe-46d4-affa-21613cda6f98",
   "metadata": {},
   "outputs": [
    {
     "data": {
      "text/html": [
       "<div>\n",
       "<style scoped>\n",
       "    .dataframe tbody tr th:only-of-type {\n",
       "        vertical-align: middle;\n",
       "    }\n",
       "\n",
       "    .dataframe tbody tr th {\n",
       "        vertical-align: top;\n",
       "    }\n",
       "\n",
       "    .dataframe thead th {\n",
       "        text-align: right;\n",
       "    }\n",
       "</style>\n",
       "<table border=\"1\" class=\"dataframe\">\n",
       "  <thead>\n",
       "    <tr style=\"text-align: right;\">\n",
       "      <th></th>\n",
       "      <th>NOME</th>\n",
       "      <th>CIDADE</th>\n",
       "      <th>IDADE</th>\n",
       "      <th>NOTA</th>\n",
       "    </tr>\n",
       "  </thead>\n",
       "  <tbody>\n",
       "    <tr>\n",
       "      <th>0</th>\n",
       "      <td>Pedro</td>\n",
       "      <td>Porto Alegre</td>\n",
       "      <td>14</td>\n",
       "      <td>83.0</td>\n",
       "    </tr>\n",
       "    <tr>\n",
       "      <th>1</th>\n",
       "      <td>Maria</td>\n",
       "      <td>São Paulo</td>\n",
       "      <td>13</td>\n",
       "      <td>59.0</td>\n",
       "    </tr>\n",
       "    <tr>\n",
       "      <th>2</th>\n",
       "      <td>Janaina</td>\n",
       "      <td>Rio de Janeiro</td>\n",
       "      <td>15</td>\n",
       "      <td>86.0</td>\n",
       "    </tr>\n",
       "    <tr>\n",
       "      <th>3</th>\n",
       "      <td>Wong</td>\n",
       "      <td>Brasília</td>\n",
       "      <td>16</td>\n",
       "      <td>89.0</td>\n",
       "    </tr>\n",
       "    <tr>\n",
       "      <th>4</th>\n",
       "      <td>Roberto</td>\n",
       "      <td>Salvador</td>\n",
       "      <td>18</td>\n",
       "      <td>98.0</td>\n",
       "    </tr>\n",
       "    <tr>\n",
       "      <th>5</th>\n",
       "      <td>Marco</td>\n",
       "      <td>Curitiba</td>\n",
       "      <td>13</td>\n",
       "      <td>61.0</td>\n",
       "    </tr>\n",
       "    <tr>\n",
       "      <th>6</th>\n",
       "      <td>Paula</td>\n",
       "      <td>Belo Horizonte</td>\n",
       "      <td>14</td>\n",
       "      <td>44.0</td>\n",
       "    </tr>\n",
       "  </tbody>\n",
       "</table>\n",
       "</div>"
      ],
      "text/plain": [
       "      NOME          CIDADE  IDADE  NOTA\n",
       "0    Pedro    Porto Alegre     14  83.0\n",
       "1    Maria       São Paulo     13  59.0\n",
       "2  Janaina  Rio de Janeiro     15  86.0\n",
       "3     Wong        Brasília     16  89.0\n",
       "4  Roberto        Salvador     18  98.0\n",
       "5    Marco        Curitiba     13  61.0\n",
       "6    Paula  Belo Horizonte     14  44.0"
      ]
     },
     "execution_count": 5,
     "metadata": {},
     "output_type": "execute_result"
    }
   ],
   "source": [
    "dfAlunos"
   ]
  },
  {
   "cell_type": "code",
   "execution_count": 5,
   "id": "77d0a80f-514b-4975-8bfd-6cac0619b9eb",
   "metadata": {},
   "outputs": [
    {
     "data": {
      "text/html": [
       "<div>\n",
       "<style scoped>\n",
       "    .dataframe tbody tr th:only-of-type {\n",
       "        vertical-align: middle;\n",
       "    }\n",
       "\n",
       "    .dataframe tbody tr th {\n",
       "        vertical-align: top;\n",
       "    }\n",
       "\n",
       "    .dataframe thead th {\n",
       "        text-align: right;\n",
       "    }\n",
       "</style>\n",
       "<table border=\"1\" class=\"dataframe\">\n",
       "  <thead>\n",
       "    <tr style=\"text-align: right;\">\n",
       "      <th></th>\n",
       "      <th>IDADE</th>\n",
       "      <th>NOTA</th>\n",
       "    </tr>\n",
       "  </thead>\n",
       "  <tbody>\n",
       "    <tr>\n",
       "      <th>count</th>\n",
       "      <td>7.000000</td>\n",
       "      <td>7.000000</td>\n",
       "    </tr>\n",
       "    <tr>\n",
       "      <th>mean</th>\n",
       "      <td>14.714286</td>\n",
       "      <td>74.285714</td>\n",
       "    </tr>\n",
       "    <tr>\n",
       "      <th>std</th>\n",
       "      <td>1.799471</td>\n",
       "      <td>19.661420</td>\n",
       "    </tr>\n",
       "    <tr>\n",
       "      <th>min</th>\n",
       "      <td>13.000000</td>\n",
       "      <td>44.000000</td>\n",
       "    </tr>\n",
       "    <tr>\n",
       "      <th>25%</th>\n",
       "      <td>13.500000</td>\n",
       "      <td>60.000000</td>\n",
       "    </tr>\n",
       "    <tr>\n",
       "      <th>50%</th>\n",
       "      <td>14.000000</td>\n",
       "      <td>83.000000</td>\n",
       "    </tr>\n",
       "    <tr>\n",
       "      <th>75%</th>\n",
       "      <td>15.500000</td>\n",
       "      <td>87.500000</td>\n",
       "    </tr>\n",
       "    <tr>\n",
       "      <th>max</th>\n",
       "      <td>18.000000</td>\n",
       "      <td>98.000000</td>\n",
       "    </tr>\n",
       "  </tbody>\n",
       "</table>\n",
       "</div>"
      ],
      "text/plain": [
       "           IDADE       NOTA\n",
       "count   7.000000   7.000000\n",
       "mean   14.714286  74.285714\n",
       "std     1.799471  19.661420\n",
       "min    13.000000  44.000000\n",
       "25%    13.500000  60.000000\n",
       "50%    14.000000  83.000000\n",
       "75%    15.500000  87.500000\n",
       "max    18.000000  98.000000"
      ]
     },
     "execution_count": 5,
     "metadata": {},
     "output_type": "execute_result"
    }
   ],
   "source": [
    "dfAlunos.describe()"
   ]
  },
  {
   "cell_type": "code",
   "execution_count": null,
   "id": "72914fbe-ed6a-471e-8075-ed2693a4d31c",
   "metadata": {},
   "outputs": [],
   "source": [
    "dfAlunos.to_csv(\"alunos.csv\",index=False)"
   ]
  },
  {
   "cell_type": "code",
   "execution_count": null,
   "id": "c4bbe5f8-5999-46d9-9870-a45cc5fcbda4",
   "metadata": {},
   "outputs": [],
   "source": [
    "df = pd.read_csv(\"alunos.csv\")\n",
    "print (df)"
   ]
  }
 ],
 "metadata": {
  "kernelspec": {
   "display_name": "Python 3 (ipykernel)",
   "language": "python",
   "name": "python3"
  },
  "language_info": {
   "codemirror_mode": {
    "name": "ipython",
    "version": 3
   },
   "file_extension": ".py",
   "mimetype": "text/x-python",
   "name": "python",
   "nbconvert_exporter": "python",
   "pygments_lexer": "ipython3",
   "version": "3.11.7"
  }
 },
 "nbformat": 4,
 "nbformat_minor": 5
}
